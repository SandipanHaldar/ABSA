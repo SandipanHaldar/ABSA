{
  "nbformat": 4,
  "nbformat_minor": 0,
  "metadata": {
    "colab": {
      "name": "Annotations.ipynb",
      "provenance": [],
      "collapsed_sections": []
    },
    "kernelspec": {
      "name": "python3",
      "display_name": "Python 3"
    }
  },
  "cells": [
    {
      "cell_type": "code",
      "metadata": {
        "id": "Zco-o1_N6A5q",
        "colab_type": "code",
        "colab": {
          "base_uri": "https://localhost:8080/",
          "height": 51
        },
        "outputId": "fcf55672-b34e-403d-ef8e-24de30fc3c7d"
      },
      "source": [
        "text=\"The Taj was even more beautiful than pictures show . There is a lot of detail such as sculpted flowers and several types of jewels encrusted in the walls . You really have to see it in person to appreciate the true beauty of it . There is a long walk from entrance gates to the actual structure but there are golf carts that charge around 60cents and men with wheelchairs that charge approximately $ 9 to take you , however , you have to pay their entrance fee as well as your own . There are steps and small areas where wheelchair can not be maneuvered , though . The grounds are beautiful with trees , plants and monkeys which climb the trees . Benches are provided where you can sit along the way and take in the beauty of the Taj and the grounds .\"\n",
        "asp='Taj;detail,\"sculptued flowers\",\"several types of jewels\";$;$;\"steps and small areas\";grounds,plants,monkeys;Benches'\n",
        "senti='1;0,0,0;$;$;-1;1,1,1;1'\n",
        "opinion='\"more beautiful\";$,$,$;$;$;\"wheelchair cannot be maneuvered\";\"beautiful with\",\"beautiful with\",\"beautiful with\";\"where you can sit along and take in beauty\"'\n",
        "\n",
        "\n",
        "import nltk\n",
        "nltk.download('punkt')\n",
        "from nltk.tokenize import sent_tokenize \n",
        "text=sent_tokenize(text) "
      ],
      "execution_count": 6,
      "outputs": [
        {
          "output_type": "stream",
          "text": [
            "[nltk_data] Downloading package punkt to /root/nltk_data...\n",
            "[nltk_data]   Package punkt is already up-to-date!\n"
          ],
          "name": "stdout"
        }
      ]
    },
    {
      "cell_type": "code",
      "metadata": {
        "id": "0QQskHEu6Lal",
        "colab_type": "code",
        "colab": {}
      },
      "source": [
        "\n",
        "asp=asp.split(\";\")\n",
        "l=[]\n",
        "\n",
        "for i in range(len(asp)):\n",
        "  k=0\n",
        "  s=0\n",
        "  for j in asp[i]:\n",
        "    if(j=='\"'):\n",
        "      k=k+1\n",
        "    if(k%2==0 and j==','):\n",
        "      s=s+1\n",
        "  l.append(s+1)\n",
        "  #print(l)\n"
      ],
      "execution_count": 7,
      "outputs": []
    },
    {
      "cell_type": "code",
      "metadata": {
        "id": "rxTNLgeq6MdZ",
        "colab_type": "code",
        "colab": {
          "base_uri": "https://localhost:8080/",
          "height": 34
        },
        "outputId": "633abb20-06d0-477c-a1c5-16f280ad4c1f"
      },
      "source": [
        "\n",
        "senti=senti.split(\";\")\n",
        "l1=[]\n",
        "for i in range((len(senti))):\n",
        "  s=0\n",
        "  for j in senti[i]:\n",
        "    if(j==','):\n",
        "      s=s+1\n",
        "  l1.append(s+1)\n",
        "print(l1)"
      ],
      "execution_count": 8,
      "outputs": [
        {
          "output_type": "stream",
          "text": [
            "[1, 3, 1, 1, 1, 3, 1]\n"
          ],
          "name": "stdout"
        }
      ]
    },
    {
      "cell_type": "code",
      "metadata": {
        "id": "FLAZ2oBV6Q11",
        "colab_type": "code",
        "colab": {}
      },
      "source": [
        "opinion=opinion.split(\";\")\n",
        "l2=[]\n",
        "for i in range(len(asp)):\n",
        "  k=0\n",
        "  s=0\n",
        "  for j in asp[i]:\n",
        "    if(j=='\"'):\n",
        "      k=k+1\n",
        "    if(k%2==0 and j==','):\n",
        "      s=s+1\n",
        "  l2.append(s+1)\n",
        "  #print(l2)\n",
        "\n"
      ],
      "execution_count": 9,
      "outputs": []
    },
    {
      "cell_type": "code",
      "metadata": {
        "id": "M5W176IP6dxD",
        "colab_type": "code",
        "colab": {
          "base_uri": "https://localhost:8080/",
          "height": 136
        },
        "outputId": "0fc02411-0bbe-4e8d-88c4-e68f52f440e3"
      },
      "source": [
        "print(len(text))\n",
        "print(len(asp))\n",
        "print(l)\n",
        "print(len(senti))\n",
        "print(l1)\n",
        "print(len(opinion))\n",
        "print(l2)"
      ],
      "execution_count": 10,
      "outputs": [
        {
          "output_type": "stream",
          "text": [
            "7\n",
            "7\n",
            "[1, 3, 1, 1, 1, 3, 1]\n",
            "7\n",
            "[1, 3, 1, 1, 1, 3, 1]\n",
            "7\n",
            "[1, 3, 1, 1, 1, 3, 1]\n"
          ],
          "name": "stdout"
        }
      ]
    },
    {
      "cell_type": "code",
      "metadata": {
        "id": "KH0euH2s7fuX",
        "colab_type": "code",
        "colab": {}
      },
      "source": [
        ""
      ],
      "execution_count": 10,
      "outputs": []
    }
  ]
}